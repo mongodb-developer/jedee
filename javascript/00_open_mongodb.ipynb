{
 "cells": [
  {
   "cell_type": "markdown",
   "metadata": {},
   "source": [
    "# Open MongoDB Using the MongoDB Extension\n",
    "\n",
    "- click on the MongoDB extension on the side panel\n",
    "- to connect to the local database, click on ‘Library DB’ in the list of connections on the left side.\n",
   ]
  },
  {
   "cell_type": "markdown",
   "metadata": {},
   "source": [
    "You should see four databases in the MongoDB database server:\n",
    "- admin\n",
    "- config\n",
    "- local\n",
    "- library -> __we're going to work with this one__"
   ]
  },
  {
   "cell_type": "markdown",
   "metadata": {},
   "source": [
    "## Open the library database\n",
    "\n",
    "- open the library database\n",
    "- open the books collection\n",
    "- click on Documents\n",
    "- open a document"
   ]
  }
 ],
 "metadata": {
  "language_info": {
   "name": "python"
  }
 },
 "nbformat": 4,
 "nbformat_minor": 2
}
