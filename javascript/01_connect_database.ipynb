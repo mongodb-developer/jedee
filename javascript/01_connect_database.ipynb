{
 "cells": [
  {
   "cell_type": "markdown",
   "metadata": {},
   "source": [
    "## Connect to MongoDB"
   ]
  },
  {
   "cell_type": "code",
   "execution_count": 9,
   "metadata": {},
   "outputs": [
    {
     "data": {
      "text/plain": [
       "Promise { \u001b[36m<pending>\u001b[39m }"
      ]
     },
     "execution_count": 9,
     "metadata": {},
     "output_type": "execute_result"
    },
    {
     "name": "stdout",
     "output_type": "stream",
     "text": [
      "Connected successfully to server\n"
     ]
    }
   ],
   "source": [
    "import { MongoClient } from \"https://deno.land/x/mongo@v0.31.1/mod.ts\";\n",
    "\n",
    "// Connection URL\n",
    "const url = 'mongodb://localhost:27017';\n",
    "\n",
    "// Database Name\n",
    "const dbName = 'mydb';\n",
    "\n",
    "async function main() {\n",
    "  const client = new MongoClient();\n",
    "  await client.connect(url);\n",
    "  console.log(\"Connected successfully to server\");\n",
    "\n",
    "  const db = client.database(dbName);\n",
    "\n",
    "  // Insert a document in the customers collection\n",
    "  await db.collection(\"customers\").insertOne({ name: 'John Doe', age: 30 });\n",
    "  console.log(\"Document inserted\");\n",
    "\n",
    "  await client.close();\n",
    "}\n",
    "\n",
    "main();"
   ]
  },
  {
   "cell_type": "markdown",
   "metadata": {},
   "source": [
    "## Send a ping command"
   ]
  },
  {
   "cell_type": "code",
   "execution_count": null,
   "metadata": {},
   "outputs": [],
   "source": []
  },
  {
   "cell_type": "markdown",
   "metadata": {},
   "source": [
    "## Get a list of collections in the database"
   ]
  },
  {
   "cell_type": "code",
   "execution_count": null,
   "metadata": {},
   "outputs": [],
   "source": []
  },
  {
   "cell_type": "markdown",
   "metadata": {},
   "source": [
    "## Count documents"
   ]
  },
  {
   "cell_type": "code",
   "execution_count": null,
   "metadata": {},
   "outputs": [],
   "source": []
  }
 ],
 "metadata": {
  "kernelspec": {
   "display_name": "Deno",
   "language": "typescript",
   "name": "deno"
  },
  "language_info": {
   "codemirror_mode": "typescript",
   "file_extension": ".ts",
   "mimetype": "text/x.typescript",
   "name": "typescript",
   "nbconvert_exporter": "script",
   "pygments_lexer": "typescript",
   "version": "5.7.3"
  }
 },
 "nbformat": 4,
 "nbformat_minor": 2
}
